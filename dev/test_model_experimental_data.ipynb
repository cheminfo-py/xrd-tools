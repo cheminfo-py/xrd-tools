{
 "cells": [
  {
   "cell_type": "code",
   "execution_count": 1,
   "id": "fa3de1d5-42f7-482b-aa4a-9ab0746c7f40",
   "metadata": {},
   "outputs": [],
   "source": [
    "import sys\n",
    "sys.path.append('../')"
   ]
  },
  {
   "cell_type": "code",
   "execution_count": 2,
   "id": "e7e7aaae-f39d-4fa2-97df-1e41a08defdb",
   "metadata": {},
   "outputs": [],
   "source": [
    "from xrd_tools.matching_model import run_matching"
   ]
  },
  {
   "cell_type": "code",
   "execution_count": 11,
   "id": "3121dbe2-8b0b-44ee-9492-05b2f61ab5b1",
   "metadata": {},
   "outputs": [],
   "source": [
    "import pandas as pd\n",
    "import matplotlib.pyplot as plt\n",
    "%matplotlib inline"
   ]
  },
  {
   "cell_type": "code",
   "execution_count": 48,
   "id": "9232b6ce-6405-4ff9-9ed0-dbdb42d76a1f",
   "metadata": {},
   "outputs": [],
   "source": [
    "df = pd.read_csv('/Users/kevinmaikjablonka/Dropbox (LSMO)/XRDmatcher/XRD_files/December_2020/XRD_Patterns/MOF_74/Co_MOF_74_bg_subtracted.xy',\n",
    "                    skiprows=1, sep='\\s+'\n",
    "                )\n",
    "df2= pd.read_csv('/Users/kevinmaikjablonka/Dropbox (LSMO)/XRDmatcher/XRD_files/December_2020/XRD_Patterns/MOF_74/Zn_MOF74_bg_subtracted.xy',\n",
    "                    skiprows=1, sep='\\s+'\n",
    "                )\n",
    "\n",
    "df3 = pd.read_csv('/Users/kevinmaikjablonka/Dropbox (LSMO)/XRDmatcher/XRD_files/December_2020/XRD_Patterns/Cu_TDPAT/Cu-TDPAT_bg_subtracted_0.xy', \n",
    "                  skiprows=1, sep='\\s+', names=['x','y']\n",
    "                 )"
   ]
  },
  {
   "cell_type": "code",
   "execution_count": 19,
   "id": "4693c439-877e-475a-885a-9f105c9996c7",
   "metadata": {},
   "outputs": [
    {
     "data": {
      "text/html": [
       "<div>\n",
       "<style scoped>\n",
       "    .dataframe tbody tr th:only-of-type {\n",
       "        vertical-align: middle;\n",
       "    }\n",
       "\n",
       "    .dataframe tbody tr th {\n",
       "        vertical-align: top;\n",
       "    }\n",
       "\n",
       "    .dataframe thead th {\n",
       "        text-align: right;\n",
       "    }\n",
       "</style>\n",
       "<table border=\"1\" class=\"dataframe\">\n",
       "  <thead>\n",
       "    <tr style=\"text-align: right;\">\n",
       "      <th></th>\n",
       "      <th>2</th>\n",
       "      <th>0</th>\n",
       "    </tr>\n",
       "  </thead>\n",
       "  <tbody>\n",
       "    <tr>\n",
       "      <th>0</th>\n",
       "      <td>2.050113</td>\n",
       "      <td>-0.028210</td>\n",
       "    </tr>\n",
       "    <tr>\n",
       "      <th>1</th>\n",
       "      <td>2.100226</td>\n",
       "      <td>-0.056265</td>\n",
       "    </tr>\n",
       "    <tr>\n",
       "      <th>2</th>\n",
       "      <td>2.150339</td>\n",
       "      <td>-0.131039</td>\n",
       "    </tr>\n",
       "    <tr>\n",
       "      <th>3</th>\n",
       "      <td>2.200452</td>\n",
       "      <td>-0.046028</td>\n",
       "    </tr>\n",
       "    <tr>\n",
       "      <th>4</th>\n",
       "      <td>2.250565</td>\n",
       "      <td>0.158930</td>\n",
       "    </tr>\n",
       "  </tbody>\n",
       "</table>\n",
       "</div>"
      ],
      "text/plain": [
       "          2         0\n",
       "0  2.050113 -0.028210\n",
       "1  2.100226 -0.056265\n",
       "2  2.150339 -0.131039\n",
       "3  2.200452 -0.046028\n",
       "4  2.250565  0.158930"
      ]
     },
     "execution_count": 19,
     "metadata": {},
     "output_type": "execute_result"
    }
   ],
   "source": [
    "df.head()"
   ]
  },
  {
   "cell_type": "code",
   "execution_count": 53,
   "id": "0635f90c-aa42-407b-b07c-850e9528f54d",
   "metadata": {},
   "outputs": [
    {
     "data": {
      "text/html": [
       "<div>\n",
       "<style scoped>\n",
       "    .dataframe tbody tr th:only-of-type {\n",
       "        vertical-align: middle;\n",
       "    }\n",
       "\n",
       "    .dataframe tbody tr th {\n",
       "        vertical-align: top;\n",
       "    }\n",
       "\n",
       "    .dataframe thead th {\n",
       "        text-align: right;\n",
       "    }\n",
       "</style>\n",
       "<table border=\"1\" class=\"dataframe\">\n",
       "  <thead>\n",
       "    <tr style=\"text-align: right;\">\n",
       "      <th></th>\n",
       "      <th>x</th>\n",
       "      <th>y</th>\n",
       "    </tr>\n",
       "  </thead>\n",
       "  <tbody>\n",
       "    <tr>\n",
       "      <th>6562</th>\n",
       "      <td>49.977490</td>\n",
       "      <td>-0.234359</td>\n",
       "    </tr>\n",
       "    <tr>\n",
       "      <th>6563</th>\n",
       "      <td>49.984649</td>\n",
       "      <td>-0.059890</td>\n",
       "    </tr>\n",
       "    <tr>\n",
       "      <th>6564</th>\n",
       "      <td>49.991808</td>\n",
       "      <td>-0.249984</td>\n",
       "    </tr>\n",
       "    <tr>\n",
       "      <th>6565</th>\n",
       "      <td>49.998967</td>\n",
       "      <td>0.166664</td>\n",
       "    </tr>\n",
       "    <tr>\n",
       "      <th>6566</th>\n",
       "      <td>50.006126</td>\n",
       "      <td>0.000000</td>\n",
       "    </tr>\n",
       "  </tbody>\n",
       "</table>\n",
       "</div>"
      ],
      "text/plain": [
       "              x         y\n",
       "6562  49.977490 -0.234359\n",
       "6563  49.984649 -0.059890\n",
       "6564  49.991808 -0.249984\n",
       "6565  49.998967  0.166664\n",
       "6566  50.006126  0.000000"
      ]
     },
     "execution_count": 53,
     "metadata": {},
     "output_type": "execute_result"
    }
   ],
   "source": [
    "df3.tail()"
   ]
  },
  {
   "cell_type": "code",
   "execution_count": 54,
   "id": "6393b5d7-5858-458c-8f07-c749b44e33d2",
   "metadata": {},
   "outputs": [
    {
     "data": {
      "text/plain": [
       "['ASECUY',\n",
       " 'NUTFOZ',\n",
       " 'BIHRUI',\n",
       " 'GIVKII',\n",
       " 'GIVKOO',\n",
       " 'RUGZAW',\n",
       " 'KIPKIF',\n",
       " 'BEQFEK',\n",
       " 'HIYHOP',\n",
       " 'DACDOE',\n",
       " 'KOJZOZ',\n",
       " 'AHOLAM',\n",
       " 'OGOJAX',\n",
       " 'MURTOL',\n",
       " 'GIQHAQ',\n",
       " 'LAJKUE',\n",
       " 'HOJJAU',\n",
       " 'POZHUI',\n",
       " 'MIHHAN',\n",
       " 'GUSPUG',\n",
       " 'MIHHER',\n",
       " 'NEYYOG',\n",
       " 'NOMDIF',\n",
       " 'NEGYAC',\n",
       " 'NIGDEO',\n",
       " 'MIHHIV',\n",
       " 'KAFTUJ',\n",
       " 'BIHROC',\n",
       " 'OMITUB',\n",
       " 'MEQWOX',\n",
       " 'OMIMEE',\n",
       " 'MUDWEP',\n",
       " 'IPUPOA',\n",
       " 'QOSXOM',\n",
       " 'MEQWUD',\n",
       " 'GEHBUT',\n",
       " 'DORRAG',\n",
       " 'MOBRON',\n",
       " 'EPAGOT',\n",
       " 'QAQMON',\n",
       " 'DEYWEK',\n",
       " 'IMIDZB13',\n",
       " 'DAKXEU',\n",
       " 'DAKYAR',\n",
       " 'JEHBEG',\n",
       " 'FEWWIP',\n",
       " 'MEQXAK',\n",
       " 'FIHHUB',\n",
       " 'QAJBEL',\n",
       " 'NIZNUI']"
      ]
     },
     "execution_count": 54,
     "metadata": {},
     "output_type": "execute_result"
    }
   ],
   "source": [
    "run_matching(df3['x'], df3['y'], 50)"
   ]
  },
  {
   "cell_type": "code",
   "execution_count": 26,
   "id": "8a9972fc-eeb5-4e37-8078-d6b93e2e4715",
   "metadata": {},
   "outputs": [
    {
     "data": {
      "text/plain": [
       "['BZTZTL',\n",
       " 'CEKVEV',\n",
       " 'OYODEM',\n",
       " 'KOZQEX',\n",
       " 'IWOXOH01',\n",
       " 'REQZAQ',\n",
       " 'HOCHEM',\n",
       " 'QEBHOX',\n",
       " 'GIQHAQ',\n",
       " 'EBIFOM',\n",
       " 'GESVAC',\n",
       " 'FARVUP',\n",
       " 'REWNEO01',\n",
       " 'CUQXIW',\n",
       " 'HAQQOI',\n",
       " 'GADHIF',\n",
       " 'LEDHUA',\n",
       " 'AMUPIJ',\n",
       " 'ADALOJ',\n",
       " 'OKIZOZ',\n",
       " 'NILFAS',\n",
       " 'MUNDOQ',\n",
       " 'IMOVOW',\n",
       " 'HUNCIE',\n",
       " 'BAKJOO',\n",
       " 'NILFIA',\n",
       " 'OXALAB',\n",
       " 'PUSSEC',\n",
       " 'HIFHIP',\n",
       " 'JURVUQ']"
      ]
     },
     "execution_count": 26,
     "metadata": {},
     "output_type": "execute_result"
    }
   ],
   "source": [
    "run_matching(df['2'][150:], df['0'][150:]/df['0'][150:].max(), 30)"
   ]
  },
  {
   "cell_type": "code",
   "execution_count": 32,
   "id": "32a67b67-65d9-45f1-873d-d501ace34454",
   "metadata": {},
   "outputs": [
    {
     "data": {
      "text/plain": [
       "['RAMDUF',\n",
       " 'BZTZTL',\n",
       " 'NESFAT',\n",
       " 'DUPKAA',\n",
       " 'REKXOW01',\n",
       " 'OGURIR',\n",
       " 'OVABOD',\n",
       " 'OGUTAM',\n",
       " 'QOQXOM10',\n",
       " 'GOTHUS',\n",
       " 'MONVUJ41',\n",
       " 'QOJVIX46',\n",
       " 'QOLFOP33',\n",
       " 'AMUXIR',\n",
       " 'NELKOE',\n",
       " 'MOPROB63',\n",
       " 'GOFDEL',\n",
       " 'SATNOR01',\n",
       " 'BIFCUP',\n",
       " 'GUBZAF']"
      ]
     },
     "execution_count": 32,
     "metadata": {},
     "output_type": "execute_result"
    }
   ],
   "source": [
    "run_matching(df2['2'][:-300], df2['0'][:-300]/df2['0'][:-300].max(), 20)"
   ]
  },
  {
   "cell_type": "code",
   "execution_count": 31,
   "id": "2810f452-bd35-463d-9316-5083ce787ced",
   "metadata": {},
   "outputs": [
    {
     "data": {
      "text/plain": [
       "[<matplotlib.lines.Line2D at 0x7fdaef53bdc0>]"
      ]
     },
     "execution_count": 31,
     "metadata": {},
     "output_type": "execute_result"
    },
    {
     "data": {
      "image/png": "[encoded data removed]",
      "text/plain": [
       "<Figure size 432x288 with 1 Axes>"
      ]
     },
     "metadata": {
      "needs_background": "light"
     },
     "output_type": "display_data"
    }
   ],
   "source": [
    "plt.plot(df['2'], df['0']/df['0'].max())\n",
    "plt.plot(df2['2'][:-300], df2['0'][:-300]/df2['0'][:-300].max())"
   ]
  },
  {
   "cell_type": "code",
   "execution_count": 27,
   "id": "bf663357-df3c-429e-8c51-190a1f67f504",
   "metadata": {},
   "outputs": [
    {
     "data": {
      "text/plain": [
       "[<matplotlib.lines.Line2D at 0x7fdaef1e58e0>]"
      ]
     },
     "execution_count": 27,
     "metadata": {},
     "output_type": "execute_result"
    },
    {
     "data": {
      "image/png": "[encoded data removed]",
      "text/plain": [
       "<Figure size 432x288 with 1 Axes>"
      ]
     },
     "metadata": {
      "needs_background": "light"
     },
     "output_type": "display_data"
    }
   ],
   "source": [
    "plt.plot(df['2'][150:], df['0'][150:]/df['0'][150:].max())\n",
    "plt.plot(df2['2'], df2['0']/df2['0'].max())"
   ]
  },
  {
   "cell_type": "code",
   "execution_count": 41,
   "id": "a8995ede-42dd-4656-9d40-20f3a75de12c",
   "metadata": {},
   "outputs": [],
   "source": [
    "still_matched = []\n",
    "\n",
    "for cut in [10, 50, 100, 150, 200, 210, 220, 230, 240, 250, 300]: \n",
    "    match = \"MOHGOI\" in run_matching(df2['2'][:-cut], df2['0'][:-cut]/df2['0'][:-cut].max(), 10)\n",
    "    still_matched.append((df2['2'][:-cut].values[-1],match))"
   ]
  },
  {
   "cell_type": "code",
   "execution_count": 42,
   "id": "72e838c7-dfe0-478b-b8f7-0edae0fd9b1a",
   "metadata": {},
   "outputs": [
    {
     "data": {
      "text/plain": [
       "[(59.3006756305695, True),\n",
       " (58.1143262386322, True),\n",
       " (56.6313894987106, True),\n",
       " (55.1484527587891, True),\n",
       " (53.6655160188675, False),\n",
       " (53.3689286708832, False),\n",
       " (53.0723413228989, False),\n",
       " (52.7757539749146, False),\n",
       " (52.4791666269302, False),\n",
       " (52.1825792789459, False),\n",
       " (50.6996425390244, False)]"
      ]
     },
     "execution_count": 42,
     "metadata": {},
     "output_type": "execute_result"
    }
   ],
   "source": [
    "still_matched"
   ]
  },
  {
   "cell_type": "code",
   "execution_count": 38,
   "id": "7bb113b7-8ef8-4e1d-a09b-5993b35a5333",
   "metadata": {},
   "outputs": [
    {
     "data": {
      "text/plain": [
       "0        2.029659\n",
       "1        2.059317\n",
       "2        2.088976\n",
       "3        2.118635\n",
       "4        2.148294\n",
       "          ...    \n",
       "1737    53.546881\n",
       "1738    53.576540\n",
       "1739    53.606199\n",
       "1740    53.635857\n",
       "1741    53.665516\n",
       "Name: 2, Length: 1742, dtype: float64"
      ]
     },
     "execution_count": 38,
     "metadata": {},
     "output_type": "execute_result"
    }
   ],
   "source": [
    "df2['2'][:-200]"
   ]
  },
  {
   "cell_type": "code",
   "execution_count": null,
   "id": "be2b77e1-6e9c-4bf8-b2c6-19f34d2c756b",
   "metadata": {},
   "outputs": [],
   "source": []
  }
 ],
 "metadata": {
  "kernelspec": {
   "display_name": "Python [conda env:xrdwebservice] *",
   "language": "python",
   "name": "conda-env-xrdwebservice-py"
  },
  "language_info": {
   "codemirror_mode": {
    "name": "ipython",
    "version": 3
   },
   "file_extension": ".py",
   "mimetype": "text/x-python",
   "name": "python",
   "nbconvert_exporter": "python",
   "pygments_lexer": "ipython3",
   "version": "3.8.8"
  }
 },
 "nbformat": 4,
 "nbformat_minor": 5
}
